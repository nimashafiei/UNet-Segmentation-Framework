{
 "cells": [
  {
   "cell_type": "code",
   "execution_count": null,
   "metadata": {},
   "outputs": [],
   "source": [
    "import os\n",
    "import numpy as np\n",
    "import tensorflow as tf\n",
    "from tensorflow.keras.models import load_model\n",
    "import matplotlib.pyplot as plt\n",
    "from DataGenerators import DataGenerator "
   ]
  },
  {
   "cell_type": "code",
   "execution_count": null,
   "metadata": {},
   "outputs": [],
   "source": [
    "# Define paths and parameters\n",
    "DATA_PATH = \"LIDC\"  # Path to your dataset\n",
    "MODEL_SAVE_PATH = \"saved_models/best_model.h5\"  \n",
    "IMG_HEIGHT = 512\n",
    "IMG_WIDTH = 512\n",
    "BATCH_SIZE = 8\n",
    "TEST_SPLIT = 0.1 "
   ]
  },
  {
   "cell_type": "code",
   "execution_count": 1,
   "metadata": {},
   "outputs": [],
   "source": [
    "# Function to load test data using DataGenerator class\n",
    "def load_test_data():\n",
    "    # Define image and mask directories\n",
    "    image_dir = os.path.join(DATA_PATH, 'images')\n",
    "    mask_dir = os.path.join(DATA_PATH, 'masks')\n",
    "\n",
    "    # Initialize data generator for the test set\n",
    "    data_generator = DataGenerator(image_dir, mask_dir, img_size=(IMG_HEIGHT, IMG_WIDTH), batch_size=BATCH_SIZE, test_split=TEST_SPLIT)\n",
    "\n",
    "    # Get the test generator\n",
    "    test_generator = data_generator.get_test_generator()\n",
    "\n",
    "    return test_generator"
   ]
  },
  {
   "cell_type": "code",
   "execution_count": null,
   "metadata": {},
   "outputs": [],
   "source": [
    "# Load the best model\n",
    "def load_trained_model(model_path):\n",
    "    print(f\"Loading model from: {model_path}\")\n",
    "    model = load_model(model_path, compile=False)  # Load the trained model without compiling it\n",
    "    return model"
   ]
  },
  {
   "cell_type": "code",
   "execution_count": null,
   "metadata": {},
   "outputs": [],
   "source": [
    "# Visualize the predictions\n",
    "def visualize_predictions(model, test_generator, num_samples=3):\n",
    "    \"\"\"\n",
    "    Visualizes predictions on the test set.\n",
    "    \n",
    "    :param model: Trained model\n",
    "    :param test_generator: Data generator for test data\n",
    "    :param num_samples: Number of samples to visualize\n",
    "    \"\"\"\n",
    "    for i in range(num_samples):\n",
    "        # Get a batch of test data\n",
    "        X_test, Y_test = next(test_generator)\n",
    "\n",
    "        # Generate predictions\n",
    "        preds = model.predict(X_test)\n",
    "\n",
    "        # Plot the input image, ground truth mask, and predicted mask\n",
    "        fig, axs = plt.subplots(1, 3, figsize=(12, 4))\n",
    "        axs[0].imshow(X_test[0])\n",
    "        axs[0].set_title('Input Image')\n",
    "        axs[0].axis('off')\n",
    "\n",
    "        axs[1].imshow(Y_test[0].squeeze(), cmap='gray')\n",
    "        axs[1].set_title('Ground Truth')\n",
    "        axs[1].axis('off')\n",
    "\n",
    "        axs[2].imshow(preds[0].squeeze(), cmap='gray')\n",
    "        axs[2].set_title('Predicted Mask')\n",
    "        axs[2].axis('off')\n",
    "\n",
    "        plt.show()"
   ]
  },
  {
   "cell_type": "code",
   "execution_count": null,
   "metadata": {},
   "outputs": [],
   "source": [
    "# Function to evaluate the model on the test set\n",
    "def evaluate_model(model, test_generator):\n",
    "    test_loss, test_accuracy = model.evaluate(test_generator, steps=len(test_generator), verbose=1)\n",
    "    print(f\"Test Loss: {test_loss}\")\n",
    "    print(f\"Test Accuracy: {test_accuracy}\")\n"
   ]
  },
  {
   "cell_type": "code",
   "execution_count": null,
   "metadata": {},
   "outputs": [],
   "source": [
    "# Load the test data\n",
    "test_generator = load_test_data()\n",
    "\n",
    "# Load the best trained model\n",
    "model = load_trained_model(MODEL_SAVE_PATH)\n",
    "\n",
    "# Evaluate the model on the test set\n",
    "evaluate_model(model, test_generator)\n",
    "\n",
    "# Visualize predictions for a few test samples\n",
    "visualize_predictions(model, test_generator, num_samples=5)\n"
   ]
  }
 ],
 "metadata": {
  "kernelspec": {
   "display_name": "LIDC-proj",
   "language": "python",
   "name": "python3"
  },
  "language_info": {
   "codemirror_mode": {
    "name": "ipython",
    "version": 3
   },
   "file_extension": ".py",
   "mimetype": "text/x-python",
   "name": "python",
   "nbconvert_exporter": "python",
   "pygments_lexer": "ipython3",
   "version": "3.12.6"
  }
 },
 "nbformat": 4,
 "nbformat_minor": 2
}
