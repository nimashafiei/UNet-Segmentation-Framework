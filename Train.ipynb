{
 "cells": [
  {
   "cell_type": "code",
   "execution_count": null,
   "metadata": {},
   "outputs": [],
   "source": []
  },
  {
   "cell_type": "code",
   "execution_count": null,
   "metadata": {},
   "outputs": [],
   "source": []
  },
  {
   "cell_type": "code",
   "execution_count": null,
   "metadata": {},
   "outputs": [],
   "source": [
    "# Import required libraries\n",
    "import os\n",
    "import numpy as np\n",
    "import tensorflow as tf\n",
    "from tensorflow.keras.callbacks import ModelCheckpoint, EarlyStopping\n",
    "from tensorflow.keras.optimizers import Adam\n",
    "\n",
    "# Import custom DataGenerator and DenseUNetWithSpatialAttention\n",
    "from DataGenerators import DataGenerator  \n",
    "from Models.DenseUNetWithSpatialAttention import DenseUNetWithSpatialAttention\n"
   ]
  },
  {
   "cell_type": "code",
   "execution_count": null,
   "metadata": {},
   "outputs": [],
   "source": [
    "# Define paths and parameters\n",
    "DATA_PATH = \"LIDC\" \n",
    "MODEL_SAVE_PATH = \"LIDC/saved_models\"  \n",
    "BATCH_SIZE = 8\n",
    "IMG_HEIGHT = 512\n",
    "IMG_WIDTH = 512\n",
    "EPOCHS = 50\n",
    "LEARNING_RATE = 1e-4\n",
    "VALIDATION_SPLIT = 0.2\n",
    "TEST_SPLIT = 0.1"
   ]
  },
  {
   "cell_type": "code",
   "execution_count": null,
   "metadata": {},
   "outputs": [],
   "source": [
    "# Function to load and split data using DataGenerator class\n",
    "def load_data_with_generators():\n",
    "    # Define image and mask directories\n",
    "    image_dir = os.path.join(DATA_PATH, 'images')\n",
    "    mask_dir = os.path.join(DATA_PATH, 'masks')\n",
    "\n",
    "    # Initialize data generators for training, validation, and test sets\n",
    "    data_generator = DataGenerator(image_dir, mask_dir, img_size=(IMG_HEIGHT, IMG_WIDTH), batch_size=BATCH_SIZE, test_split=TEST_SPLIT, val_split=VALIDATION_SPLIT)\n",
    "\n",
    "    # Generate the train, validation, and test generators\n",
    "    train_generator = data_generator.get_train_generator()\n",
    "    val_generator = data_generator.get_val_generator()\n",
    "    test_generator = data_generator.get_test_generator()\n",
    "\n",
    "    return train_generator, val_generator, test_generator"
   ]
  },
  {
   "cell_type": "code",
   "execution_count": null,
   "metadata": {},
   "outputs": [],
   "source": [
    "# Function to build, compile and train the model\n",
    "def train_model():\n",
    "    # Load and prepare dataset using the DataGenerator class\n",
    "    train_generator, val_generator, test_generator = load_data_with_generators()\n",
    "\n",
    "    # Initialize the Dense U-Net with Spatial Attention model\n",
    "    model = DenseUNetWithSpatialAttention(input_size=(IMG_HEIGHT, IMG_WIDTH, 3), output_channels=1).build_model()\n",
    "\n",
    "    # Compile the model\n",
    "    model.compile(optimizer=Adam(learning_rate=LEARNING_RATE), \n",
    "                  loss='binary_crossentropy', \n",
    "                  metrics=['accuracy'])\n",
    "\n",
    "    # Define callbacks for early stopping and model checkpointing\n",
    "    callbacks = [\n",
    "        ModelCheckpoint(MODEL_SAVE_PATH, monitor='val_loss', save_best_only=True, mode='min', verbose=1),\n",
    "        EarlyStopping(monitor='val_loss', patience=10, verbose=1, restore_best_weights=True)\n",
    "    ]\n",
    "\n",
    "    # Train the model\n",
    "    model.fit(train_generator,\n",
    "              validation_data=val_generator,\n",
    "              epochs=EPOCHS,\n",
    "              steps_per_epoch=len(train_generator),\n",
    "              validation_steps=len(val_generator),\n",
    "              callbacks=callbacks,\n",
    "              verbose=1)\n",
    "\n",
    "    # Evaluate the model on the test set\n",
    "    test_loss, test_accuracy = model.evaluate(test_generator, steps=len(test_generator), verbose=1)\n",
    "    print(f\"Test Loss: {test_loss}\")\n",
    "    print(f\"Test Accuracy: {test_accuracy}\")"
   ]
  },
  {
   "cell_type": "code",
   "execution_count": null,
   "metadata": {},
   "outputs": [],
   "source": [
    "train_model()"
   ]
  }
 ],
 "metadata": {
  "kernelspec": {
   "display_name": "LIDC-proj",
   "language": "python",
   "name": "python3"
  },
  "language_info": {
   "name": "python",
   "version": "3.12.6"
  }
 },
 "nbformat": 4,
 "nbformat_minor": 2
}
